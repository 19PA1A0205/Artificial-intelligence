{
  "nbformat": 4,
  "nbformat_minor": 0,
  "metadata": {
    "colab": {
      "name": "Numpy Experiment-1",
      "provenance": [],
      "collapsed_sections": [],
      "authorship_tag": "ABX9TyOFg/3Z9F5wADA5O28ySPpd",
      "include_colab_link": true
    },
    "kernelspec": {
      "name": "python3",
      "display_name": "Python 3"
    }
  },
  "cells": [
    {
      "cell_type": "markdown",
      "metadata": {
        "id": "view-in-github",
        "colab_type": "text"
      },
      "source": [
        "<a href=\"https://colab.research.google.com/github/19PA1A0205/Artificial-intelligence/blob/master/Numpy_Experiment_1.ipynb\" target=\"_parent\"><img src=\"https://colab.research.google.com/assets/colab-badge.svg\" alt=\"Open In Colab\"/></a>"
      ]
    },
    {
      "cell_type": "markdown",
      "metadata": {
        "id": "KSdcCA3w4NbS",
        "colab_type": "text"
      },
      "source": [
        " Artificial Intelligence Tools, Techniques and Applications"
      ]
    },
    {
      "cell_type": "markdown",
      "metadata": {
        "id": "QYEY6ei84bfF",
        "colab_type": "text"
      },
      "source": [
        " #Experiment No1:Numpy"
      ]
    },
    {
      "cell_type": "markdown",
      "metadata": {
        "id": "E2w9zajI4vNR",
        "colab_type": "text"
      },
      "source": [
        " 1) Different ways to create numpy arrays"
      ]
    },
    {
      "cell_type": "code",
      "metadata": {
        "id": "uuKcloiV5giE",
        "colab_type": "code",
        "colab": {
          "base_uri": "https://localhost:8080/",
          "height": 34
        },
        "outputId": "e8a5a5ed-42ec-498e-eeff-0522f02b36cf"
      },
      "source": [
        " \n",
        "import numpy as np\n",
        "a = np.array([1,2,3])\n",
        "print(a)"
      ],
      "execution_count": null,
      "outputs": [
        {
          "output_type": "stream",
          "text": [
            "[1 2 3]\n"
          ],
          "name": "stdout"
        }
      ]
    },
    {
      "cell_type": "code",
      "metadata": {
        "id": "q5Dx9uQh4zaY",
        "colab_type": "code",
        "colab": {
          "base_uri": "https://localhost:8080/",
          "height": 34
        },
        "outputId": "ba35d49b-725c-4698-8ac0-6059316a3f60"
      },
      "source": [
        "import numpy as np\n",
        "a = np.array([4,6,7])\n",
        "a"
      ],
      "execution_count": null,
      "outputs": [
        {
          "output_type": "execute_result",
          "data": {
            "text/plain": [
              "array([4, 6, 7])"
            ]
          },
          "metadata": {
            "tags": []
          },
          "execution_count": 1
        }
      ]
    },
    {
      "cell_type": "code",
      "metadata": {
        "id": "ls3sw4KU5Qd1",
        "colab_type": "code",
        "colab": {
          "base_uri": "https://localhost:8080/",
          "height": 51
        },
        "outputId": "a8a36fe8-9789-4d7e-c90c-d101d9d74796"
      },
      "source": [
        " import numpy as np\n",
        "s = np.array([[1,2,3],[4,5,6]])\n",
        "s"
      ],
      "execution_count": null,
      "outputs": [
        {
          "output_type": "execute_result",
          "data": {
            "text/plain": [
              "array([[1, 2, 3],\n",
              "       [4, 5, 6]])"
            ]
          },
          "metadata": {
            "tags": []
          },
          "execution_count": 7
        }
      ]
    },
    {
      "cell_type": "code",
      "metadata": {
        "id": "SYCO-qKE57pv",
        "colab_type": "code",
        "colab": {
          "base_uri": "https://localhost:8080/",
          "height": 34
        },
        "outputId": "70d74900-1f8c-456a-ae6f-7703c0eb3971"
      },
      "source": [
        " import numpy as np\n",
        "a = np.zeros(5)\n",
        "a"
      ],
      "execution_count": null,
      "outputs": [
        {
          "output_type": "execute_result",
          "data": {
            "text/plain": [
              "array([0., 0., 0., 0., 0.])"
            ]
          },
          "metadata": {
            "tags": []
          },
          "execution_count": 9
        }
      ]
    },
    {
      "cell_type": "code",
      "metadata": {
        "id": "HnvnZzCU65Ty",
        "colab_type": "code",
        "colab": {
          "base_uri": "https://localhost:8080/",
          "height": 54
        },
        "outputId": "b29b2196-8c77-4de7-bae3-22dd09dba10a"
      },
      "source": [
        " import numpy as np\n",
        "a = np.linspace(10,20,num=5)\n",
        "a"
      ],
      "execution_count": null,
      "outputs": [
        {
          "output_type": "execute_result",
          "data": {
            "text/plain": [
              "array([10. , 12.5, 15. , 17.5, 20. ])"
            ]
          },
          "metadata": {
            "tags": []
          },
          "execution_count": 14
        }
      ]
    },
    {
      "cell_type": "markdown",
      "metadata": {
        "id": "nYYpng3k42q-",
        "colab_type": "text"
      },
      "source": [
        " 2)Add, remove, modify elements in an array"
      ]
    },
    {
      "cell_type": "code",
      "metadata": {
        "id": "LZYwBjs67vW6",
        "colab_type": "code",
        "colab": {
          "base_uri": "https://localhost:8080/",
          "height": 54
        },
        "outputId": "0a7d864c-73d8-4e20-be00-e4949ce6da24"
      },
      "source": [
        " import numpy as np\n",
        "q = np.arange(1,11)\n",
        "a = np.insert(q,3,10)\n",
        "a"
      ],
      "execution_count": null,
      "outputs": [
        {
          "output_type": "execute_result",
          "data": {
            "text/plain": [
              "array([ 1,  2,  3, 10,  4,  5,  6,  7,  8,  9, 10])"
            ]
          },
          "metadata": {
            "tags": []
          },
          "execution_count": 53
        }
      ]
    },
    {
      "cell_type": "code",
      "metadata": {
        "id": "NrSbNCyE-x3i",
        "colab_type": "code",
        "colab": {
          "base_uri": "https://localhost:8080/",
          "height": 54
        },
        "outputId": "0aa0fc11-8a93-4fa6-d198-85a56cc3ef83"
      },
      "source": [
        " import numpy as np\n",
        "q = np.arange(1,19)\n",
        "a = np.delete(q,3)\n",
        "a"
      ],
      "execution_count": null,
      "outputs": [
        {
          "output_type": "execute_result",
          "data": {
            "text/plain": [
              "array([ 1,  2,  3,  5,  6,  7,  8,  9, 10, 11, 12, 13, 14, 15, 16, 17, 18])"
            ]
          },
          "metadata": {
            "tags": []
          },
          "execution_count": 55
        }
      ]
    },
    {
      "cell_type": "code",
      "metadata": {
        "id": "Y2xoRAtEIuiW",
        "colab_type": "code",
        "colab": {
          "base_uri": "https://localhost:8080/",
          "height": 34
        },
        "outputId": "5ce49c3e-e096-4055-cd7d-33ebde85408f"
      },
      "source": [
        "import numpy as np\n",
        "e = np.array([1,2,3])\n",
        "s = e*2\n",
        "s"
      ],
      "execution_count": null,
      "outputs": [
        {
          "output_type": "execute_result",
          "data": {
            "text/plain": [
              "array([2, 4, 6])"
            ]
          },
          "metadata": {
            "tags": []
          },
          "execution_count": 57
        }
      ]
    },
    {
      "cell_type": "code",
      "metadata": {
        "id": "daf3xa0LJfGl",
        "colab_type": "code",
        "colab": {
          "base_uri": "https://localhost:8080/",
          "height": 34
        },
        "outputId": "f2a4f40c-5139-47ad-98f7-13a06e8f96c3"
      },
      "source": [
        "import numpy as np\n",
        "s = np.arange(5)\n",
        "q = np.append(s,10)\n",
        "q"
      ],
      "execution_count": null,
      "outputs": [
        {
          "output_type": "execute_result",
          "data": {
            "text/plain": [
              "array([ 0,  1,  2,  3,  4, 10])"
            ]
          },
          "metadata": {
            "tags": []
          },
          "execution_count": 61
        }
      ]
    },
    {
      "cell_type": "markdown",
      "metadata": {
        "id": "ZAl0B9575Be2",
        "colab_type": "text"
      },
      "source": [
        " 3) Arithmetic operations on Numpy arrays"
      ]
    },
    {
      "cell_type": "code",
      "metadata": {
        "id": "t2o826RjKUPF",
        "colab_type": "code",
        "colab": {
          "base_uri": "https://localhost:8080/",
          "height": 343
        },
        "outputId": "91180308-b529-4344-e14b-5359200034f4"
      },
      "source": [
        "import numpy as np\n",
        "a = np.random.random((3,3))\n",
        "b = np.random.random((3,3))\n",
        "print(np.add(a,b))\n",
        "print(np.subtract(a,b))\n",
        "print(np.multiply(a,b))\n",
        "print(np.mod(a,b))\n",
        "print(np.divide(a,b))\n",
        "print(np.power(a,b))"
      ],
      "execution_count": null,
      "outputs": [
        {
          "output_type": "stream",
          "text": [
            "[[0.6203225  1.28055132 0.54771677]\n",
            " [0.53350362 1.45644516 0.89797715]\n",
            " [1.86097397 0.71753887 0.81991482]]\n",
            "[[ 0.0532909  -0.60194964 -0.48945614]\n",
            " [-0.4398091  -0.05016469  0.00566134]\n",
            " [-0.02195059  0.56273096 -0.34765054]]\n",
            "[[0.09549002 0.31936708 0.01510659]\n",
            " [0.02279852 0.529679   0.20158273]\n",
            " [0.86568557 0.04954897 0.13784985]]\n",
            "[[0.0532909  0.33930084 0.02913032]\n",
            " [0.04684726 0.70314023 0.00566134]\n",
            " [0.91951169 0.02090327 0.23613214]]\n",
            "[[1.18796448 0.3604788  0.05617254]\n",
            " [0.09626354 0.93340719 1.01268909]\n",
            " [0.97668458 8.27005428 0.40448637]]\n",
            "[[0.73452227 0.36154541 0.15981967]\n",
            " [0.22546546 0.76696571 0.70155187]\n",
            " [0.92403948 0.96606122 0.43058491]]\n"
          ],
          "name": "stdout"
        }
      ]
    },
    {
      "cell_type": "markdown",
      "metadata": {
        "id": "2I8Gw7io5Hmf",
        "colab_type": "text"
      },
      "source": [
        " 4)Slicing and iterating of Numpy arrays"
      ]
    },
    {
      "cell_type": "markdown",
      "metadata": {
        "id": "gGg_scwP5LN-",
        "colab_type": "text"
      },
      "source": [
        "Slicing"
      ]
    },
    {
      "cell_type": "code",
      "metadata": {
        "id": "oEacjwGrNGbL",
        "colab_type": "code",
        "colab": {
          "base_uri": "https://localhost:8080/",
          "height": 34
        },
        "outputId": "a941e311-6994-459e-908f-51481d3584d5"
      },
      "source": [
        "import numpy as np\n",
        "a = np.arange(9)\n",
        "s =a[1: 6]\n",
        " \n",
        "s"
      ],
      "execution_count": null,
      "outputs": [
        {
          "output_type": "execute_result",
          "data": {
            "text/plain": [
              "array([1, 2, 3, 4, 5])"
            ]
          },
          "metadata": {
            "tags": []
          },
          "execution_count": 81
        }
      ]
    },
    {
      "cell_type": "markdown",
      "metadata": {
        "id": "k0M_YoJbRqqu",
        "colab_type": "text"
      },
      "source": [
        "Iterating"
      ]
    },
    {
      "cell_type": "code",
      "metadata": {
        "id": "fPlJpeYuRs3U",
        "colab_type": "code",
        "colab": {
          "base_uri": "https://localhost:8080/",
          "height": 51
        },
        "outputId": "517cf785-ba86-4ebd-83c0-df1a69ddbe26"
      },
      "source": [
        "import numpy as np\n",
        " \n",
        "arr = np.array([[1, 2, 3], [4, 5, 6]])\n",
        " \n",
        "for x in arr:\n",
        "  print(x)"
      ],
      "execution_count": null,
      "outputs": [
        {
          "output_type": "stream",
          "text": [
            "[1 2 3]\n",
            "[4 5 6]\n"
          ],
          "name": "stdout"
        }
      ]
    },
    {
      "cell_type": "code",
      "metadata": {
        "id": "99FAsiZxTVye",
        "colab_type": "code",
        "colab": {
          "base_uri": "https://localhost:8080/",
          "height": 68
        },
        "outputId": "2842c11a-280e-47eb-d117-19bbec433a12"
      },
      "source": [
        " import numpy as np\n",
        " \n",
        "arr = np.array([1, 2, 3])\n",
        " \n",
        "for x in arr:\n",
        "  print(x)"
      ],
      "execution_count": null,
      "outputs": [
        {
          "output_type": "stream",
          "text": [
            "1\n",
            "2\n",
            "3\n"
          ],
          "name": "stdout"
        }
      ]
    },
    {
      "cell_type": "markdown",
      "metadata": {
        "id": "F1MxVb1y5U_4",
        "colab_type": "text"
      },
      "source": [
        " 5)Matrix operations on Numpy arrays"
      ]
    },
    {
      "cell_type": "code",
      "metadata": {
        "id": "OHZb0GlpVx68",
        "colab_type": "code",
        "colab": {
          "base_uri": "https://localhost:8080/",
          "height": 153
        },
        "outputId": "50fcde1c-34f2-4b8b-bc73-294a047f31ff"
      },
      "source": [
        "import numpy as np\n",
        "b = np.array([[1,2],[4,5]])\n",
        "c = np.array([[6,7],[7,9]])\n",
        "print(np.add(b,c))\n",
        "print(np.subtract(b,c))\n",
        "print(np.multiply(b,c))\n",
        "print (np.divide(b,c))"
      ],
      "execution_count": null,
      "outputs": [
        {
          "output_type": "stream",
          "text": [
            "[[ 7  9]\n",
            " [11 14]]\n",
            "[[-5 -5]\n",
            " [-3 -4]]\n",
            "[[ 6 14]\n",
            " [28 45]]\n",
            "[[0.16666667 0.28571429]\n",
            " [0.57142857 0.55555556]]\n"
          ],
          "name": "stdout"
        }
      ]
    }
  ]
}